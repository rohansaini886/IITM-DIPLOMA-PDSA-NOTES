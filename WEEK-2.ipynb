{
 "cells": [
  {
   "cell_type": "markdown",
   "id": "9944d86f-3b3c-40e3-bb09-0b4df3a858c4",
   "metadata": {},
   "source": [
    "<h1> WEEK - 2 </h1>"
   ]
  },
  {
   "cell_type": "markdown",
   "id": "1874291f-9a68-470a-b62e-f196d7f42afc",
   "metadata": {},
   "source": [
    "<h2> Searching Types. </h2>"
   ]
  },
  {
   "cell_type": "markdown",
   "id": "c2abbbd6-66ac-4517-8bca-5fcf9d0f018d",
   "metadata": {},
   "source": [
    "<li> Naive Search</li>\n",
    "<li> Binary Search</li>\n",
    "<br>\n",
    "<h2> Sorting Types. </h2>\n",
    "<li> Selection Sort</li>\n",
    "<li> Insertion Sort</li>\n",
    "<li> Merge Sort</li>\n",
    "<li> Bubble Sort</li>"
   ]
  },
  {
   "cell_type": "markdown",
   "id": "68a1fe82-498c-489d-90b0-8ce87606542f",
   "metadata": {},
   "source": [
    "<h3> Naive Search</h3>"
   ]
  },
  {
   "cell_type": "code",
   "execution_count": 2,
   "id": "db7cc3ef-6479-418a-baf4-87e86f67b26d",
   "metadata": {},
   "outputs": [],
   "source": [
    "def Naive(l, n):\n",
    "    for i in l:\n",
    "        if i == n:\n",
    "            return True\n",
    "    return False"
   ]
  },
  {
   "cell_type": "code",
   "execution_count": 4,
   "id": "871a85f9-0be7-4be3-b8bb-13f58cbdd7c2",
   "metadata": {},
   "outputs": [
    {
     "name": "stdin",
     "output_type": "stream",
     "text": [
      " 1 2 3 4 5 6\n",
      " 5\n"
     ]
    },
    {
     "name": "stdout",
     "output_type": "stream",
     "text": [
      "True\n"
     ]
    }
   ],
   "source": [
    "l = list(map(int, input().split(\" \")))\n",
    "n = int(input())\n",
    "print(Naive(l, n))"
   ]
  },
  {
   "cell_type": "markdown",
   "id": "1b455633-0bf1-49e6-9d63-fce8e7740e98",
   "metadata": {},
   "source": [
    "<h4> Best Case :- O(1)</h4>\n",
    "<h4> Average Case :- O(n)</h4>\n",
    "<h4> Worst Case :- O(n)</h4>"
   ]
  },
  {
   "cell_type": "markdown",
   "id": "63498db3-38ff-4d14-b409-6e3a960045b4",
   "metadata": {},
   "source": [
    "<h3> Binary Search</h3>"
   ]
  },
  {
   "cell_type": "code",
   "execution_count": 25,
   "id": "d77e3f58-bec2-4334-95e5-15416a852d45",
   "metadata": {},
   "outputs": [],
   "source": [
    "def binarysearch(v,l):\n",
    "  if l == []:\n",
    "    return(False)\n",
    "\n",
    "  m = len(l)//2\n",
    "\n",
    "  if v == l[m]:\n",
    "    return(True)\n",
    "\n",
    "  if v < l[m]:\n",
    "    return(binarysearch(v,l[:m]))\n",
    "  else:\n",
    "    return(binarysearch(v,l[m+1:]))"
   ]
  },
  {
   "cell_type": "code",
   "execution_count": 28,
   "id": "2ebddfc5-b5bb-45ce-820c-18a20688f30e",
   "metadata": {},
   "outputs": [
    {
     "name": "stdin",
     "output_type": "stream",
     "text": [
      " 5\n",
      " 1 2 3 4 5 6\n"
     ]
    },
    {
     "name": "stdout",
     "output_type": "stream",
     "text": [
      "True\n"
     ]
    }
   ],
   "source": [
    "v = int(input())\n",
    "l = list(map(int, input().split(\" \")))\n",
    "print(binarysearch(v, l))"
   ]
  },
  {
   "cell_type": "markdown",
   "id": "17e9ea1b-d171-4d9c-9ddb-dcb7d432be84",
   "metadata": {},
   "source": [
    "<h3> Selection sort</h3>"
   ]
  },
  {
   "cell_type": "code",
   "execution_count": 5,
   "id": "2a23cf2c-f729-4cd0-8b38-ec6f2f2efd2b",
   "metadata": {},
   "outputs": [],
   "source": [
    "def selectionSort(arr):\n",
    "    l = len(arr)\n",
    "    if l < 1:\n",
    "        return arr\n",
    "    for i in range(n):\n",
    "        mini = i\n",
    "        for j in range(i + 1, n):\n",
    "            if arr[j] < arr[mini]:\n",
    "                mini = j\n",
    "        (arr[i], arr[mini]) = (arr[mini], arr[i])\n",
    "    return arr"
   ]
  },
  {
   "cell_type": "code",
   "execution_count": 6,
   "id": "b67e5e3a-0193-4719-a96f-a195be8cd021",
   "metadata": {},
   "outputs": [
    {
     "name": "stdin",
     "output_type": "stream",
     "text": [
      " 1 2 34 5 6 70 51 531\n"
     ]
    },
    {
     "name": "stdout",
     "output_type": "stream",
     "text": [
      "[1, 2, 5, 6, 34, 70, 51, 531]\n"
     ]
    }
   ],
   "source": [
    "arr = list(map(int, input().split(\" \")))\n",
    "print(selectionSort(arr))"
   ]
  },
  {
   "cell_type": "markdown",
   "id": "4b6ef78a-495a-4398-82ba-57e3448523bb",
   "metadata": {},
   "source": [
    "<h4> Best Case, Average Case, Worst Case :- O(n<sup>2</sup>)"
   ]
  },
  {
   "cell_type": "markdown",
   "id": "0ab97024-2365-482a-aa2d-6a21b3f3dfb7",
   "metadata": {},
   "source": [
    "<h3> Insertion Sort</h3>"
   ]
  },
  {
   "cell_type": "code",
   "execution_count": 7,
   "id": "2352fd7a-e334-43c2-b4a7-4303ce280c70",
   "metadata": {},
   "outputs": [],
   "source": [
    "def insertionSort(l):\n",
    "    n = len(l)\n",
    "    if n < 1:\n",
    "        return l\n",
    "    for i in range(n):\n",
    "        j = i\n",
    "        while(j > 0 and l[j] < l[j - 1]):\n",
    "            (l[j],l[j-1]) = (l[j-1],l[j])\n",
    "            j = j - 1\n",
    "    return l"
   ]
  },
  {
   "cell_type": "code",
   "execution_count": 9,
   "id": "dc006357-d16b-435d-bd17-55152eef8b6a",
   "metadata": {},
   "outputs": [
    {
     "name": "stdin",
     "output_type": "stream",
     "text": [
      " 1 2 3 5 0 4 0 6 9 8 5 0\n"
     ]
    },
    {
     "name": "stdout",
     "output_type": "stream",
     "text": [
      "[0, 0, 0, 1, 2, 3, 4, 5, 5, 6, 8, 9]\n"
     ]
    }
   ],
   "source": [
    "l = list(map(int, input().split(\" \")))\n",
    "print(insertionSort(l))"
   ]
  },
  {
   "cell_type": "markdown",
   "id": "82e5d6f5-7fdb-4ae0-8a24-8e4d3e3fffe2",
   "metadata": {},
   "source": [
    "<h4> Best Case, Worst Case, Average Case :- O(n<sup>2</sup>)"
   ]
  },
  {
   "cell_type": "markdown",
   "id": "e196dd51-3aac-4988-a88b-2bb1744ceeab",
   "metadata": {},
   "source": [
    "<h3> Merge Sort</h3>"
   ]
  },
  {
   "cell_type": "code",
   "execution_count": 20,
   "id": "5a052b77-fe99-4ef1-a18f-3ed482be0757",
   "metadata": {},
   "outputs": [],
   "source": [
    "def merge(A,B):\n",
    "    (m,n) = (len(A),len(B))\n",
    "    (C,i,j) = ([],0,0)\n",
    "    while i < m and j < n:\n",
    "        if A[i] <= B[j]:\n",
    "            C.append(A[i])\n",
    "            i += 1\n",
    "        else:\n",
    "            C.append(B[j])\n",
    "            j += 1\n",
    "    while i < m:\n",
    "        C.append(A[i])\n",
    "        i += 1\n",
    "    while j < n:\n",
    "        C.append(B[j])\n",
    "        j += 1\n",
    "    return C\n",
    "\n",
    "    \n",
    "def mergesort(A):\n",
    "    n = len(A)\n",
    "    if n <= 1:\n",
    "        return(A)\n",
    "    L = mergesort(A[:n//2])\n",
    "    R = mergesort(A[n//2:])\n",
    "    B = merge(L,R)\n",
    "    return(B)"
   ]
  },
  {
   "cell_type": "code",
   "execution_count": 21,
   "id": "3a7bcacc-dba3-4137-b90e-1b7e5339d397",
   "metadata": {},
   "outputs": [
    {
     "name": "stdin",
     "output_type": "stream",
     "text": [
      " 1 23 4 5 610 2 3 4 5\n"
     ]
    },
    {
     "name": "stdout",
     "output_type": "stream",
     "text": [
      "[1, 2, 3, 4, 4, 5, 5, 23, 610]\n"
     ]
    }
   ],
   "source": [
    "print(mergesort(list(map(int, input().split(\" \")))))"
   ]
  },
  {
   "cell_type": "code",
   "execution_count": null,
   "id": "e153b90b-7d30-41dc-9232-42987711777c",
   "metadata": {},
   "outputs": [],
   "source": []
  }
 ],
 "metadata": {
  "kernelspec": {
   "display_name": "Python 3 (ipykernel)",
   "language": "python",
   "name": "python3"
  },
  "language_info": {
   "codemirror_mode": {
    "name": "ipython",
    "version": 3
   },
   "file_extension": ".py",
   "mimetype": "text/x-python",
   "name": "python",
   "nbconvert_exporter": "python",
   "pygments_lexer": "ipython3",
   "version": "3.9.1"
  }
 },
 "nbformat": 4,
 "nbformat_minor": 5
}
