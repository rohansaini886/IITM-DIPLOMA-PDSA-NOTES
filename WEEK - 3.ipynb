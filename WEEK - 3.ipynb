{
 "cells": [
  {
   "cell_type": "markdown",
   "id": "f7708bcd-7191-48ea-b4d2-2963e7ffef5b",
   "metadata": {},
   "source": [
    "<h1> WEEK - 3 </h1>"
   ]
  },
  {
   "cell_type": "markdown",
   "id": "dc0d0ff7-7f7b-40bb-adf9-6a964d7de738",
   "metadata": {},
   "source": [
    "<h2> QUICK - SORT </h2>"
   ]
  },
  {
   "cell_type": "code",
   "execution_count": 1,
   "id": "8081e498-7613-4b01-b7f2-c6114dcdb097",
   "metadata": {},
   "outputs": [
    {
     "name": "stdin",
     "output_type": "stream",
     "text": [
      " 1 2 3 4 6 5 9 7 8\n"
     ]
    },
    {
     "name": "stdout",
     "output_type": "stream",
     "text": [
      "[1, 2, 3, 4, 5, 6, 7, 8, 9]\n"
     ]
    }
   ],
   "source": [
    "def quickSort(arr, l, r):\n",
    "    if(r - l <= 1):\n",
    "        return (arr)\n",
    "    (pivot, lower, upper) = (arr[l], l + 1, l + 1)\n",
    "    for i in range(l + 1, r):\n",
    "        if arr[i] > pivot:\n",
    "            upper += 1\n",
    "        else:\n",
    "            (arr[i], arr[lower]) = (arr[lower], arr[i])\n",
    "            lower += 1\n",
    "            upper += 1\n",
    "    (arr[l], arr[lower - 1]) = (arr[lower - 1], arr[l])\n",
    "    lower -= 1\n",
    "    quickSort(arr, l, lower)\n",
    "    quickSort(arr, lower + 1, upper)\n",
    "    return (arr)\n",
    "    \n",
    "\n",
    "arr = list(map(int, input().split(\" \")))\n",
    "print(quickSort(arr, 0, len(arr)))"
   ]
  },
  {
   "cell_type": "markdown",
   "id": "5b7da453-fb13-4feb-a653-14384e6af90d",
   "metadata": {},
   "source": [
    "<h3> Best Case :- (n*log(n)) </h3>\n",
    "<h3> Average Case :- (n*log(n)) </h3>\n",
    "<h3> Worst Case :- (n<sup>2</sup>) </h3>"
   ]
  },
  {
   "cell_type": "markdown",
   "id": "aa684196-21e4-43ff-b6d1-9eba60cabde4",
   "metadata": {},
   "source": [
    "<h3>More Faster than the Insertion, Selection Sort and more efficent then Merge Sort.</h3>"
   ]
  },
  {
   "cell_type": "code",
   "execution_count": null,
   "id": "3e9a525e-2a31-46e1-a1db-c7b5834ac2cc",
   "metadata": {},
   "outputs": [],
   "source": []
  }
 ],
 "metadata": {
  "kernelspec": {
   "display_name": "Python 3.10.0 64-bit",
   "language": "python",
   "name": "python3100jvsc74a57bd0d32d364d59accff1cd5a0c64fcedeffeb60bf584b9fd89a07484b9e6a8c02379"
  },
  "language_info": {
   "codemirror_mode": {
    "name": "ipython",
    "version": 3
   },
   "file_extension": ".py",
   "mimetype": "text/x-python",
   "name": "python",
   "nbconvert_exporter": "python",
   "pygments_lexer": "ipython3",
   "version": "3.10.0"
  }
 },
 "nbformat": 4,
 "nbformat_minor": 5
}
